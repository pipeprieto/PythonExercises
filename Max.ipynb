{
  "nbformat": 4,
  "nbformat_minor": 0,
  "metadata": {
    "colab": {
      "name": "Max.ipynb",
      "provenance": [],
      "authorship_tag": "ABX9TyOW+Gp1NIdSJo+cG3blfLsJ",
      "include_colab_link": true
    },
    "kernelspec": {
      "name": "python3",
      "display_name": "Python 3"
    },
    "language_info": {
      "name": "python"
    }
  },
  "cells": [
    {
      "cell_type": "markdown",
      "metadata": {
        "id": "view-in-github",
        "colab_type": "text"
      },
      "source": [
        "<a href=\"https://colab.research.google.com/github/pipeprieto/PythonExercises/blob/main/Max.ipynb\" target=\"_parent\"><img src=\"https://colab.research.google.com/assets/colab-badge.svg\" alt=\"Open In Colab\"/></a>"
      ]
    },
    {
      "cell_type": "code",
      "metadata": {
        "id": "Zs3xWtDy0u9B"
      },
      "source": [
        "def Max(x,y):\n",
        "  max = x\n",
        "  if max<y:\n",
        "    max=y\n",
        "  return max"
      ],
      "execution_count": 10,
      "outputs": []
    },
    {
      "cell_type": "code",
      "metadata": {
        "colab": {
          "base_uri": "https://localhost:8080/"
        },
        "id": "4xptctaq1hMq",
        "outputId": "d2ca4022-5278-4f93-ba64-51d490af7a3f"
      },
      "source": [
        "x=int(input(\"Digite el primer número\"))\n",
        "y=int(input(\"Digite el segundo número\"))\n",
        "m= Max(x,y)\n",
        "print(m)"
      ],
      "execution_count": 12,
      "outputs": [
        {
          "output_type": "stream",
          "text": [
            "Digite el primer número20\n",
            "Digite el segundo número10\n",
            "20\n"
          ],
          "name": "stdout"
        }
      ]
    }
  ]
}