{
  "nbformat": 4,
  "nbformat_minor": 0,
  "metadata": {
    "colab": {
      "name": "LongitudLista.ipynb",
      "provenance": [],
      "authorship_tag": "ABX9TyP7aOgQXhc5mzDdRzT9YYUe",
      "include_colab_link": true
    },
    "kernelspec": {
      "name": "python3",
      "display_name": "Python 3"
    },
    "language_info": {
      "name": "python"
    }
  },
  "cells": [
    {
      "cell_type": "markdown",
      "metadata": {
        "id": "view-in-github",
        "colab_type": "text"
      },
      "source": [
        "<a href=\"https://colab.research.google.com/github/pipeprieto/PythonExercises/blob/main/LongitudLista.ipynb\" target=\"_parent\"><img src=\"https://colab.research.google.com/assets/colab-badge.svg\" alt=\"Open In Colab\"/></a>"
      ]
    },
    {
      "cell_type": "code",
      "metadata": {
        "id": "VmLW7gg9JScQ"
      },
      "source": [
        "def Len(arr):\n",
        "  cont=0\n",
        "  i=0\n",
        "  for i in arr:\n",
        "    cont = cont+1\n",
        "    i=i+1\n",
        "  return cont "
      ],
      "execution_count": 16,
      "outputs": []
    },
    {
      "cell_type": "code",
      "metadata": {
        "colab": {
          "base_uri": "https://localhost:8080/"
        },
        "id": "US9S9jM0KSMb",
        "outputId": "791f775c-09e2-4f6c-a13a-ad86b242bed5"
      },
      "source": [
        "arr=[1,2,3,4,5,6,7]\n",
        "cont=Len(arr)\n",
        "print(cont+1)"
      ],
      "execution_count": 17,
      "outputs": [
        {
          "output_type": "stream",
          "text": [
            "8\n"
          ],
          "name": "stdout"
        }
      ]
    }
  ]
}